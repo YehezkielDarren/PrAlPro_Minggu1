{
 "cells": [
  {
   "cell_type": "markdown",
   "metadata": {},
   "source": [
    "1. Program Tarif Tol dalam Python"
   ]
  },
  {
   "cell_type": "code",
   "execution_count": null,
   "metadata": {},
   "outputs": [],
   "source": [
    "print(\"PROGRAM TARIF TOL\")\n",
    "\n",
    "def tarif_tol(jarak, golongan):\n",
    "    if golongan==1:\n",
    "        tarif_tol= 10000 +((jarak-50)*1000)\n",
    "    if golongan==2 :\n",
    "        tarif_tol= 15000 +((jarak-50)*1500)\n",
    "    if golongan==3:\n",
    "        tarif_tol= 20000 +((jarak-50)*2000)\n",
    "    if golongan==4:\n",
    "        tarif_tol= 25000 +((jarak-50)*2500)\n",
    "    return tarif_tol\n",
    "def tarif(jarak):\n",
    "    return 15000+((jarak-50)*1500)\n",
    "        \n",
    "print(\"RP. \", tarif_tol(150, 1))\n",
    "print(\"RP. \",tarif_tol(golongan = 4, jarak = 200))\n",
    "print(\"RP. \",tarif(100))"
   ]
  },
  {
   "cell_type": "markdown",
   "metadata": {},
   "source": [
    "2. Program Even Loops dalam Python"
   ]
  },
  {
   "cell_type": "code",
   "execution_count": null,
   "metadata": {},
   "outputs": [],
   "source": [
    "rentang=int(input(\"Masukkan Range Angka :\" ))\n",
    "\n",
    "for i in range(rentang):\n",
    "    if i %2==0:\n",
    "        print(i)"
   ]
  }
 ],
 "metadata": {
  "language_info": {
   "name": "python"
  }
 },
 "nbformat": 4,
 "nbformat_minor": 2
}
